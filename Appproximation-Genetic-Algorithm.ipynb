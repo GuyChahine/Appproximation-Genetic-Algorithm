{
 "cells": [
  {
   "cell_type": "code",
   "execution_count": 1,
   "metadata": {},
   "outputs": [],
   "source": [
    "import numpy as np\n",
    "from random import randint\n",
    "from cmath import exp"
   ]
  },
  {
   "cell_type": "code",
   "execution_count": 245,
   "metadata": {},
   "outputs": [],
   "source": [
    "def f(a,b,c,d,e,f):\n",
    "    return a**2 + 45*b**6 - 2*c**4 + np.exp(d) - 6*e**2 + f + 32"
   ]
  },
  {
   "cell_type": "code",
   "execution_count": 244,
   "metadata": {},
   "outputs": [],
   "source": [
    "def fitness(*args):\n",
    "    return -(1/2)*f(*args)**2"
   ]
  },
  {
   "cell_type": "code",
   "execution_count": 246,
   "metadata": {},
   "outputs": [],
   "source": [
    "def create_population(nb_variable, nb_population):\n",
    "    return (np.random.random(nb_population*nb_variable)*2-1).reshape(-1,nb_variable)"
   ]
  },
  {
   "cell_type": "code",
   "execution_count": 247,
   "metadata": {},
   "outputs": [],
   "source": [
    "def crossover(couple):\n",
    "    return np.array([variable[randint(0,1)] for variable in couple])"
   ]
  },
  {
   "cell_type": "code",
   "execution_count": 251,
   "metadata": {},
   "outputs": [],
   "source": [
    "def mutation(childs, mutation_value):\n",
    "    return childs * (np.random.random(childs.size).reshape(-1,childs.shape[1])*(2*mutation_value)+(1-mutation_value))"
   ]
  },
  {
   "cell_type": "code",
   "execution_count": 249,
   "metadata": {},
   "outputs": [],
   "source": [
    "def create_childrens(best_solution, mutation_value):\n",
    "    parents = best_solution[:best_solution.shape[0]//2]\n",
    "    parent_pool = np.arange(parents.shape[0])\n",
    "    np.random.shuffle(parent_pool)\n",
    "    parent_pool = parent_pool.reshape(-1,2)\n",
    "    childs = np.array([crossover(np.array([parents[p1], parents[p2]]).T) for p1, p2 in parent_pool])\n",
    "    mutated_childs = mutation(childs, mutation_value)\n",
    "    return np.concatenate([parents, childs, mutated_childs])"
   ]
  },
  {
   "cell_type": "code",
   "execution_count": 310,
   "metadata": {},
   "outputs": [
    {
     "name": "stdout",
     "output_type": "stream",
     "text": [
      "Iteration : 140 | Change : 0 | Best Fitness : -0.0                                                 \r"
     ]
    }
   ],
   "source": [
    "NB_VARIABLE = 6\n",
    "NB_POPULATION = 100\n",
    "\n",
    "mutation_value = 1\n",
    "solutions = create_population(NB_VARIABLE, NB_POPULATION)\n",
    "best_solution = np.array(solutions)\n",
    "i, i_change = 0, 0\n",
    "\n",
    "for i in range(10000):\n",
    "    results = fitness(*solutions.T)\n",
    "    bests = np.flip(results.argsort())\n",
    "    i_change = i_change + 1 if (best_solution[0] == solutions[bests[0]]).all() else 0\n",
    "    if i_change >= 10:\n",
    "        mutation_value /= 1000\n",
    "        i_change = 0\n",
    "    best_solution = solutions[bests]\n",
    "    print(f\"Iteration : {i} | Change : {i_change} | Best Fitness : {results[bests[0]]}{' '*30}\", end=\"\\r\")\n",
    "    if (results == 0).any() == True:\n",
    "        final_values = best_solution[0]\n",
    "        break\n",
    "    solutions = create_childrens(best_solution, mutation_value)\n",
    "    i += 1"
   ]
  }
 ],
 "metadata": {
  "kernelspec": {
   "display_name": "Python 3.10.4 64-bit",
   "language": "python",
   "name": "python3"
  },
  "language_info": {
   "codemirror_mode": {
    "name": "ipython",
    "version": 3
   },
   "file_extension": ".py",
   "mimetype": "text/x-python",
   "name": "python",
   "nbconvert_exporter": "python",
   "pygments_lexer": "ipython3",
   "version": "3.10.4"
  },
  "orig_nbformat": 4,
  "vscode": {
   "interpreter": {
    "hash": "0986a705e0e9c41aedb0cb54b09a403593fe0a5bc8bc18fb428b786d741665bc"
   }
  }
 },
 "nbformat": 4,
 "nbformat_minor": 2
}
